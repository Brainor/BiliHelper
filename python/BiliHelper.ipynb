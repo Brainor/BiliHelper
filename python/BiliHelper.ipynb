{
 "cells": [
  {
   "cell_type": "code",
   "execution_count": 193,
   "metadata": {},
   "outputs": [],
   "source": [
    "import requests\n",
    "appSecret = \"94aba54af9065f71de72f5508f1cd42e\"\n",
    "appKey = \"84956560bc028eb7\"\n",
    "appkey = \"c1b107428d337928\"\n",
    "appsec = \"ea85624dfcf12d7cc7b2b3a94fac1f2c\"\n",
    "dlappKey = \"f3bb208b3d081dc8\"\n",
    "dlappSecret = \"1c15888dc316e05a15fdd0a02ed6584f\""
   ]
  },
  {
   "cell_type": "code",
   "execution_count": 302,
   "metadata": {},
   "outputs": [
    {
     "data": {
      "text/plain": [
       "'http://cn-bj2-cc-v-04.acgvideo.com/upgcxcode/71/12/301271/301271-1-15.flv?expires=1538947800&platform=pc&ssig=hlZefOdyZLpvH5TXc9lGiA&oi=2093829167&nfa=7VMUDqBQpI8VGBbhQ1faUQ==&dynamic=1&hfa=2039038672&hfb=Yjk5ZmZjM2M1YzY4ZjAwYTMzMTIzYmIyNWY4ODJkNWI=&trid=fa0eb1cb12a643f9ba89bd1951b2ddff&nfc=1'"
      ]
     },
     "execution_count": 302,
     "metadata": {},
     "output_type": "execute_result"
    }
   ],
   "source": [
    "def seasonId2List(season_id):\n",
    "    url= \"https://bangumi.bilibili.com/view/web_api/season\"\n",
    "    params={'season_id':season_id}\n",
    "    return requests.get(url,params).json()\n",
    "def seasonId2cid(season_id):\n",
    "    return seasonId2List(season_id)\n",
    "def epId2List(ep_id):\n",
    "    import re\n",
    "    url= \"https://www.bilibili.com/bangumi/play/ep\" + str(ep_id)\n",
    "    r=requests.get(url)\n",
    "    m = re.search(r'(?<=ss)\\d+', r.text)\n",
    "    return seasonId2List(m.group(0))\n",
    "def epId2cid(ep_id):\n",
    "    return epId2List(ep_id)['result']['episodes'][-1]['cid']\n",
    "def aid2List(aid,page=1):\n",
    "    url=\"https://api.bilibili.com/view\"\n",
    "    params={'appkey':appKey,'id':aid,'page':page}\n",
    "    return requests.get(url,params).json()\n",
    "def aid2cid(aid,page=1):\n",
    "    return aid2List(aid,page)['cid']\n",
    "def cid2DownUrl(cid,quality=80):\n",
    "    url='https://bangumi.bilibili.com/player/web_api/v2/playurl'\n",
    "    params={}\n",
    "    params.update([['cid',cid],['otype','json'],['type',''],['module','bangumi'],['season_type','1'],['appkey',appKey]])\n",
    "    params['sign']=hashlib.md5(('&'.join([i+'='+str(params[i]) for i in sorted(params.keys())])+appSecret).encode()).hexdigest()\n",
    "    headers={'Referer':'https://www.bilibili.com/video/','User-Agent': 'Mozilla/5.0 (Macintosh; Intel Mac OS X 10.13; rv:56.0) Gecko/20100101 Firefox/56.0'}\n",
    "    headers['Client-IP']='59.125.39.5'\n",
    "    return requests.get(url,params=params,headers=headers).json()\n",
    "def getSign(params):\n",
    "    import time\n",
    "    params.update([['_appver',3040000],['_tid',0],['_p',1],['_down',0]])\n",
    "    params.update([['platform','android'],['_device','android'],['_hwid','ccbb856c97ccb8d2'],['ts',int(time.time())]])\n",
    "    params.setdefault('appkey',appKey)\n",
    "    sign=hashlib.md5(('&'.join([i+'='+str(params[i]) for i in sorted(params.keys())])+appSecret).encode()).hexdigest()\n",
    "    params['sign']=sign\n",
    "    return params\n",
    "def cid2DownUrl2(cid):\n",
    "    params={'cid':cid,'otype':'json','appkey':appKey,'quality':3,'ts':int(time.time())}\n",
    "    params['sign']=hashlib.md5(('&'.join([i+'='+str(params[i]) for i in sorted(params.keys())])+appSecret).encode()).hexdigest()\n",
    "    url='https://interface.bilibili.com/playurl'\n",
    "    return requests.get(url,params).json()\n",
    "url=cid2DownUrl(58232206)['durl'][0]['url']\n",
    "r = requests.get(url, headers={},stream=True)\n",
    "with open('a.flv', 'wb') as f:\n",
    "    for chunk in r.iter_content(chunk_size=1024): \n",
    "        if chunk: # filter out keep-alive new chunks\n",
    "            f.write(chunk)\n",
    "cid2DownUrl(301271)['durl'][0]['url']"
   ]
  },
  {
   "cell_type": "code",
   "execution_count": 301,
   "metadata": {},
   "outputs": [
    {
     "data": {
      "text/plain": [
       "299177119"
      ]
     },
     "execution_count": 301,
     "metadata": {},
     "output_type": "execute_result"
    }
   ],
   "source": [
    "headers ={'Host':'tx.acgvideo.com','User-Agent': 'Mozilla/5.0 (Macintosh; Intel Mac OS X 10.13; rv:56.0) Gecko/20100101 Firefox/56.0',\n",
    "          'Accept': '*/*','Accept-Language': 'en-US,en;q=0.5','Accept-Encoding': 'gzip, deflate, br',\n",
    "         'Range': 'bytes=0-','Referer': 'https://www.bilibili.com/video/av14543079/','Origin': 'https://www.bilibili.com','Connection': 'keep-alive'}\n",
    "headers={'Referer':'https://www.bilibili.com/video/','User-Agent': 'Mozilla/5.0 (Macintosh; Intel Mac OS X 10.13; rv:56.0) Gecko/20100101 Firefox/56.0'}\n",
    "url=cid2DownUrl(58232206)['durl'][0]['url']\n",
    "r = requests.get(url, headers=headers,stream=True)\n",
    "int(r.headers['content-length'])"
   ]
  },
  {
   "cell_type": "code",
   "execution_count": 305,
   "metadata": {},
   "outputs": [
    {
     "data": {
      "text/plain": [
       "{'code': -403, 'message': '权限不足'}"
      ]
     },
     "execution_count": 305,
     "metadata": {},
     "output_type": "execute_result"
    }
   ],
   "source": [
    "cid2DownUrl(58362745)#['durl'][0]['size']/1024"
   ]
  },
  {
   "cell_type": "code",
   "execution_count": 278,
   "metadata": {},
   "outputs": [
    {
     "data": {
      "text/plain": [
       "54273413"
      ]
     },
     "execution_count": 278,
     "metadata": {},
     "output_type": "execute_result"
    }
   ],
   "source": [
    "epId2cid(9713)"
   ]
  },
  {
   "cell_type": "code",
   "execution_count": null,
   "metadata": {},
   "outputs": [],
   "source": []
  }
 ],
 "metadata": {
  "kernelspec": {
   "display_name": "Python 3",
   "language": "python",
   "name": "python3"
  },
  "language_info": {
   "codemirror_mode": {
    "name": "ipython",
    "version": 3
   },
   "file_extension": ".py",
   "mimetype": "text/x-python",
   "name": "python",
   "nbconvert_exporter": "python",
   "pygments_lexer": "ipython3",
   "version": "3.6.5"
  }
 },
 "nbformat": 4,
 "nbformat_minor": 2
}
