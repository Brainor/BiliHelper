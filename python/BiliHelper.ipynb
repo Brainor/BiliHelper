{
 "cells": [
  {
   "cell_type": "code",
   "execution_count": 17,
   "metadata": {},
   "outputs": [],
   "source": [
    "\n",
    "appSecret = \"94aba54af9065f71de72f5508f1cd42e\"\n",
    "appKey = \"84956560bc028eb7\"\n",
    "appkey = \"c1b107428d337928\"\n",
    "appsec = \"ea85624dfcf12d7cc7b2b3a94fac1f2c\"\n",
    "dlappKey = \"f3bb208b3d081dc8\"\n",
    "dlappSecret = \"1c15888dc316e05a15fdd0a02ed6584f\"\n",
    "进击=24629\n",
    "风平=441"
   ]
  },
  {
   "cell_type": "code",
   "execution_count": 24,
   "metadata": {},
   "outputs": [],
   "source": [
    "import requests\n",
    "def list2Cid(list):\n",
    "    return list['result']['episodes'][-1]['cid']\n",
    "def seasonId2List(season_id):\n",
    "    url= \"https://bangumi.bilibili.com/view/web_api/season\"\n",
    "    params={'season_id':season_id}\n",
    "    return requests.get(url,params).json()\n",
    "def epId2SeasonId(ep_id):\n",
    "    import re\n",
    "    url= \"https://www.bilibili.com/bangumi/play/ep\" + str(ep_id)\n",
    "    r=requests.get(url)\n",
    "    m = re.search(r'(?<=ss)\\d+', r.text)\n",
    "    return m.group(0)\n",
    "def epId2cid(ep_id):\n",
    "    return list2Cid(seasonId2List(epId2SeasonId(ep_id)))\n",
    "def aid2List(aid,page=1):\n",
    "    url=\"https://api.bilibili.com/view\"\n",
    "    params={'appkey':appKey,'id':aid,'page':page}\n",
    "    return requests.get(url,params).json()\n",
    "def aid2cid(aid,page=1):\n",
    "    return aid2List(aid,page)['cid']\n",
    "def cid2DownUrl(cid,quality=80):\n",
    "    import hashlib\n",
    "    url='https://bangumi.bilibili.com/player/web_api/v2/playurl'\n",
    "    params={}\n",
    "    params.update([['cid',cid],['otype','json'],['type',''],['module','bangumi'],['season_type','1'],['appkey',appKey]])\n",
    "    params['sign']=hashlib.md5(('&'.join([i+'='+str(params[i]) for i in sorted(params.keys())])+appSecret).encode()).hexdigest()\n",
    "    headers={'Referer':'https://www.bilibili.com/video/','User-Agent': 'Mozilla/5.0 (Macintosh; Intel Mac OS X 10.13; rv:56.0) Gecko/20100101 Firefox/56.0'}\n",
    "    headers['Client-IP']='59.152.193.24'\n",
    "    headers['X-Forwarded-For']='59.152.193.24'\n",
    "    headers['X-Requested-With']='XMLHttpRequest'\n",
    "    return requests.get(url,params=params,headers=headers).json()\n",
    "def getSign(params):\n",
    "    import time\n",
    "    params.update([['_appver',3040000],['_tid',0],['_p',1],['_down',0]])\n",
    "    params.update([['platform','android'],['_device','android'],['_hwid','ccbb856c97ccb8d2'],['ts',int(time.time())]])\n",
    "    params.setdefault('appkey',appKey)\n",
    "    sign=hashlib.md5(('&'.join([i+'='+str(params[i]) for i in sorted(params.keys())])+appSecret).encode()).hexdigest()\n",
    "    params['sign']=sign\n",
    "    return params\n",
    "def cid2DownUrl2(cid):\n",
    "    params={'cid':cid,'otype':'json','appkey':appKey,'quality':3,'ts':int(time.time())}\n",
    "    params['sign']=hashlib.md5(('&'.join([i+'='+str(params[i]) for i in sorted(params.keys())])+appSecret).encode()).hexdigest()\n",
    "    url='https://interface.bilibili.com/playurl'\n",
    "    return requests.get(url,params).json()\n"
   ]
  },
  {
   "cell_type": "code",
   "execution_count": 37,
   "metadata": {},
   "outputs": [
    {
     "data": {
      "text/plain": [
       "0.0"
      ]
     },
     "execution_count": 37,
     "metadata": {},
     "output_type": "execute_result"
    }
   ],
   "source": [
    "url=cid2DownUrl(list2Cid(seasonId2List(进击)))['durl'][0]['url']\n",
    "# url='http://upos-hz-mirrorwcsu.acgvideo.com/upgcxcode/43/11/38521143/38521143-1-80.flv?e=ig8euxZM2rNcNbRghwdVhwdlhbKVhwdVhoNvNC8BqJIzNbfqXBvEqxTEto8BTrNvN0GvT90W5JZMkX_YN0MvXg8gNEVEuxTEto8i8o859r1qXg8xNEVE5XREto8GuFGv2U7SuxI72X6fTr859IB_&deadline=1541186141&gen=playurl&nbs=1&oi=2356152436&os=wcsu&platform=pc&trid=2649b8673cd54b5f961bda08de669fd0&uipk=5&upsig=a5627b0bc5a957aef96f026755be0280'\n",
    "headers={'Referer':'https://www.bilibili.com/video/','User-Agent': 'Mozilla/5.0 (Macintosh; Intel Mac OS X 10.13; rv:56.0) Gecko/20100101 Firefox/56.0'}\n",
    "r = requests.get(url, headers=headers,stream=True)\n",
    "int(r.headers['Content-Length'])/1024//1024\n",
    "# with open('a.flv', 'wb') as f:\n",
    "#     for chunk in r.iter_content(chunk_size=1024): \n",
    "#         if chunk: # filter out keep-alive new chunks\n",
    "#             f.write(chunk)\n",
    "#cid2DownUrl(301271)['durl'][0]['url']"
   ]
  },
  {
   "cell_type": "code",
   "execution_count": 59,
   "metadata": {},
   "outputs": [
    {
     "name": "stdout",
     "output_type": "stream",
     "text": [
      "1513s\n"
     ]
    }
   ],
   "source": [
    "headers ={'Host':'tx.acgvideo.com','User-Agent': 'Mozilla/5.0 (Macintosh; Intel Mac OS X 10.13; rv:56.0) Gecko/20100101 Firefox/56.0',\n",
    "          'Accept': '*/*','Accept-Language': 'en-US,en;q=0.5','Accept-Encoding': 'gzip, deflate, br',\n",
    "         'Range': 'bytes=0-','Referer': 'https://www.bilibili.com/video/av14543079/','Origin': 'https://www.bilibili.com','Connection': 'keep-alive'}\n",
    "headers={'Referer':'https://www.bilibili.com/video/','User-Agent': 'Mozilla/5.0 (Macintosh; Intel Mac OS X 10.13; rv:56.0) Gecko/20100101 Firefox/56.0'}\n",
    "headers['Client-IP']='59.125.39.5'\n",
    "print('{:.0f}s'.format(cid2DownUrl(list2Cid(seasonId2List(1071)))['durl'][0]['length']/1000))"
   ]
  },
  {
   "cell_type": "code",
   "execution_count": 64,
   "metadata": {},
   "outputs": [
    {
     "name": "stdout",
     "output_type": "stream",
     "text": [
      "15s\n"
     ]
    }
   ],
   "source": [
    "print('{:.0f}s'.format(cid2DownUrl(list2Cid(seasonId2List(进击)))['durl'][0]['length']/1000))"
   ]
  },
  {
   "cell_type": "code",
   "execution_count": 10,
   "metadata": {},
   "outputs": [
    {
     "data": {
      "text/plain": [
       "{'code': -404, 'message': '结果为空或者已被删除'}"
      ]
     },
     "execution_count": 10,
     "metadata": {},
     "output_type": "execute_result"
    }
   ],
   "source": [
    "cid2DownUrl(38521143)"
   ]
  },
  {
   "cell_type": "code",
   "execution_count": 7,
   "metadata": {},
   "outputs": [
    {
     "data": {
      "text/plain": [
       "61573130"
      ]
     },
     "execution_count": 7,
     "metadata": {},
     "output_type": "execute_result"
    }
   ],
   "source": [
    "list2Cid(seasonId2List(25617))"
   ]
  },
  {
   "cell_type": "code",
   "execution_count": 39,
   "metadata": {},
   "outputs": [
    {
     "data": {
      "text/plain": [
       "{'accept_description': ['高清 720P', '流畅 360P'],\n",
       " 'accept_format': 'hdmp4,mp4',\n",
       " 'accept_quality': [48, 16],\n",
       " 'bp': 0,\n",
       " 'code': 0,\n",
       " 'durl': [{'length': 15126,\n",
       "   'order': 1,\n",
       "   'size': 124627,\n",
       "   'url': 'http://cn-zjwz4-dx-v-09.acgvideo.com/upgcxcode/43/69/8986943/8986943-1-16.mp4?expires=1541192700&platform=ios&ssig=uQRrBovVZESrWYpBa-ZMJQ&oi=3078818617&nfa=7VMUDqBQpI8VGBbhQ1faUQ==&dynamic=1&hfa=2045739811&hfb=ZWI2ODUxMTI1YmRhNTcxZjcwNTFjMTUwOTdkZTc0ZDM=&trid=ad4383a37d9a4b7797f807f4cfc192ed&nfc=1'}],\n",
       " 'format': 'mp4',\n",
       " 'from': 'local',\n",
       " 'has_paid': False,\n",
       " 'quality': 16,\n",
       " 'result': 'suee',\n",
       " 'seek_param': 'start',\n",
       " 'seek_type': 'second',\n",
       " 'timelength': 15126}"
      ]
     },
     "execution_count": 39,
     "metadata": {},
     "output_type": "execute_result"
    }
   ],
   "source": [
    "cid2DownUrl(list2Cid(seasonId2List(进击)))"
   ]
  },
  {
   "cell_type": "markdown",
   "metadata": {},
   "source": [
    "获取Token"
   ]
  },
  {
   "cell_type": "code",
   "execution_count": null,
   "metadata": {},
   "outputs": [],
   "source": [
    "import requests\n",
    "url= \"https://www.biliplus.com/login?act=getpubkey\"\n",
    "r=requests.get(url)\n",
    "r.text"
   ]
  },
  {
   "cell_type": "code",
   "execution_count": 23,
   "metadata": {},
   "outputs": [
    {
     "name": "stdout",
     "output_type": "stream",
     "text": [
      "{'mode': 'video', 'part': 1, 'cid': 62984291, 'length': '023:40', 'data': [{'type': 'split', 'name': 'Standard FLV', 'parts': [{'length': '23:40 186.97MB', 'url': 'http://upos-hz-mirrorwcsu.acgvideo.com/upgcxcode/91/42/62984291/62984291-1-80.flv?e=ig8euxZM2rNcNbRghwdVhwdlhbKVhwdVhoNvNC8BqJIzNbfqXBvEuENvNCImNEVEua6m2jIxux0CkF6s2JZv5x0DQJZY2F8SkXKE9IB5QK==&deadline=1542393867&gen=playurl&nbs=1&oi=2356152436&os=wcsu&platform=flash&trid=c82111bf325648eb961bbaeae71c3b35&uipk=5&upsig=4068ab7b0741ac4cb6413534d5e0032a'}], 'info': '186.97MB<br>1920x1080@23.98 1104.35 kbps<br>882.02 / 188.23 kbps'}, {'type': 'split', 'name': 'Lowered FLV', 'parts': [{'length': '23:40 139.02MB', 'url': 'http://upos-hz-mirrorwcsu.acgvideo.com/upgcxcode/91/42/62984291/62984291-1-64.flv?e=ig8euxZM2rNcNbRghwdVhwdlhbKVhwdVhoNvNC8BqJIzNbfqXBvEuENvNCImNEVEua6m2jIxux0CkF6s2JZv5x0DQJZY2F8SkXKE9IB5QK==&deadline=1542393867&gen=playurl&nbs=1&oi=2356152436&os=wcsu&platform=flash&trid=8aa06628ff3d4075bed47a43c948ff96&uipk=5&upsig=98776481c9df75d968e75cc6700c7e60'}], 'info': '139.02MB<br>1280x720@23.98 821.13 kbps<br>605.40 / 188.23 kbps'}, {'type': 'split', 'name': 'SD FLV', 'parts': [{'length': '23:40 109.53MB', 'url': 'http://upos-hz-mirrorwcsu.acgvideo.com/upgcxcode/91/42/62984291/62984291-1-32.flv?e=ig8euxZM2rNcNbRghwdVhwdlhbKVhwdVhoNvNC8BqJIzNbfqXBvEuENvNCImNEVEua6m2jIxux0CkF6s2JZv5x0DQJZY2F8SkXKE9IB5QK==&deadline=1542393867&gen=playurl&nbs=1&oi=2356152436&os=wcsu&platform=flash&trid=70d00e36477443e980e637229f0b33c0&uipk=5&upsig=4ad328241a9cb2ac7623333d2f54d285'}], 'info': '109.53MB<br>852x480@23.98 646.94 kbps<br>435.28 / 188.23 kbps'}, {'type': 'single', 'name': 'SD MP4', 'url': 'http://upos-hz-mirrorwcsu.acgvideo.com/upgcxcode/91/42/62984291/62984291-1-16.mp4?e=ig8euxZM2rNcNbRghwdVhwdlhbKVhwdVhoNvNC8BqJIzNbfqXBvEuENvNCImNEVEua6m2jIxux0CkF6s2JZv5x0DQJZY2F8SkXKE9IB5QK==&deadline=1542393868&gen=playurl&nbs=1&oi=2356152436&os=wcsu&platform=flash&trid=ed21d19779e442aba6a334eaad7ef935&uipk=5&upsig=10ea50db15dd5f5df932fd2569ffbc40', 'info': '640x360 436.00 kbps<br>364.07 / 65.54 kbps'}], 'notInList': ['hdflv2'], 'expire': 0, 'warn': 'Recommmend using multi-thread downloader to download videos', 'storage': {'access': 2, 'cid': 62984291, 'type': [['mp4', '896.20MB']], 'canReport': 1}}\n"
     ]
    }
   ],
   "source": [
    "url='https://www.biliplus.com/api/geturl?av=5886528&page=1&bangumi=1'\n",
    "import requests\n",
    "def aid2DownUrl(aid,page,bangumi):\n",
    "    url='https://www.biliplus.com/api/geturl'\n",
    "    params={'bangumi':bangumi,'av':aid,'page':page}\n",
    "    headers={}\n",
    "    headers['cookie']='bp_user_id=d-zz-WOAiULcUN99E3tDMw; UsingLang=zh; UM_distinctid=166d59c83a8201-06ac2aa5e25896-4d045769-1fa400-166d59c83a9533; CNZZDATA1256846811=270910691-1541182090-https%253A%252F%252Fwww.biliplus.com%252F%7C1541182090; adfly_video_vaild=1542581413%2Cb4c3b44f; pushed_L2pzL2xhbmcuemguanM=171023013645; pushed_L3N0eWxlL2JpbGlwbHVzLm1pbi5jc3M=180127; pushed_L2pzL3RpbWVyLm1pbi5qcw=161222; pushed_L2pzL3RpbWVhZ28ubWluLmpz=225898f; pushed_L2pzL2JvdHRvbXNjcmlwdC5taW4uanM=180924; vipDueDate=0; pushed_L2pzL3NwLm1pbi5qcw=1710230136; pushed_L2pzL2Zhdi5taW4uanM=181010; freetoview=2; pushed_L2pzL2dldGFpZC5taW4uanM=1811121608; pushed_L2pzL3dpbi1kb3RzLm1pbi5qcw=161229; level=5; login=2; passlogin=1; mid=1381806; uname=Brainor; access_key=b824d04e8483972a35244b81a32d2cd9; face=http%3A%2F%2Fi0.hdslb.com%2Fbfs%2Fface%2F149806452d89f9eec87406c7354d977fac8cd983.jpg; expires=1544971143; secure_header=access_key%2Cmid%2Clevel%2Csecurev2_time; securev2_time=1542379148; securev2=40b567b5; visiturl=%2Fapi%2Fdo.php%3Fsource%3Dbilibili%26act%3Dsearch%26o%3Ddefault%26n%3D20%26p%3D1%26word%3D%25E4%25BA%25A7%25E5%25AD%2590%25E6%2595%2591%25E4%25B8%2596%25E5%25BD%2595; _ga=GA1.2.1111774395.1539370612; _gid=GA1.2.666122244.1542379065'\n",
    "    headers['cookie']='bp_user_id=d-zz-WOAiULcUN99E3tDMw; UM_distinctid=166d59c83a8201-06ac2aa5e25896-4d045769-1fa400-166d59c83a9533; CNZZDATA1256846811=270910691-1541182090-https%253A%252F%252Fwww.biliplus.com%252F%7C1541182090; adfly_video_vaild=1542581413%2Cb4c3b44f; pushed_L2pzL2xhbmcuemguanM=171023013645; pushed_L3N0eWxlL2JpbGlwbHVzLm1pbi5jc3M=180127; pushed_L2pzL3RpbWVyLm1pbi5qcw=161222; pushed_L2pzL3RpbWVhZ28ubWluLmpz=225898f; pushed_L2pzL2JvdHRvbXNjcmlwdC5taW4uanM=180924; vipDueDate=0; pushed_L2pzL3NwLm1pbi5qcw=1710230136; pushed_L2pzL2Zhdi5taW4uanM=181010; freetoview=2; pushed_L2pzL2dldGFpZC5taW4uanM=1811121608; pushed_L2pzL3dpbi1kb3RzLm1pbi5qcw=161229; level=5; login=2; passlogin=1; mid=1381806; uname=Brainor; access_key=b824d04e8483972a35244b81a32d2cd9; face=http%3A%2F%2Fi0.hdslb.com%2Fbfs%2Fface%2F149806452d89f9eec87406c7354d977fac8cd983.jpg; expires=1544971143; secure_header=access_key%2Cmid%2Clevel%2Csecurev2_time; securev2_time=1542379148; securev2=40b567b5; visiturl=%2Fapi%2Fdo.php%3Fsource%3Dbilibili%26act%3Dsearch%26o%3Ddefault%26n%3D20%26p%3D1%26word%3D%25E4%25BA%25A7%25E5%25AD%2590%25E6%2595%2591%25E4%25B8%2596%25E5%25BD%2595; _ga=GA1.2.1111774395.1539370612; _gid=GA1.2.666122244.1542379065'\n",
    "    print(requests.get(url,params=params,headers=headers).json())\n",
    "aid2DownUrl(35886528,1,1)"
   ]
  },
  {
   "cell_type": "code",
   "execution_count": 25,
   "metadata": {},
   "outputs": [
    {
     "data": {
      "text/plain": [
       "59312460"
      ]
     },
     "execution_count": 25,
     "metadata": {},
     "output_type": "execute_result"
    }
   ],
   "source": [
    "list2Cid(seasonId2List(24629))"
   ]
  },
  {
   "cell_type": "code",
   "execution_count": null,
   "metadata": {},
   "outputs": [],
   "source": []
  }
 ],
 "metadata": {
  "kernelspec": {
   "display_name": "Python 3",
   "language": "python",
   "name": "python3"
  },
  "language_info": {
   "codemirror_mode": {
    "name": "ipython",
    "version": 3
   },
   "file_extension": ".py",
   "mimetype": "text/x-python",
   "name": "python",
   "nbconvert_exporter": "python",
   "pygments_lexer": "ipython3",
   "version": "3.7.0"
  }
 },
 "nbformat": 4,
 "nbformat_minor": 2
}
