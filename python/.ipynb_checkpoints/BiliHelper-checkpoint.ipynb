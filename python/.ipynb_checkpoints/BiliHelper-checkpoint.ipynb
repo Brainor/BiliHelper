{
 "cells": [
  {
   "cell_type": "code",
   "execution_count": 17,
   "metadata": {},
   "outputs": [],
   "source": [
    "appSecret = \"94aba54af9065f71de72f5508f1cd42e\"\n",
    "appKey = \"84956560bc028eb7\"\n",
    "appkey = \"c1b107428d337928\"\n",
    "appsec = \"ea85624dfcf12d7cc7b2b3a94fac1f2c\"\n",
    "dlappKey = \"f3bb208b3d081dc8\"\n",
    "dlappSecret = \"1c15888dc316e05a15fdd0a02ed6584f\"\n",
    "进击=24629\n",
    "风平=441"
   ]
  },
  {
   "cell_type": "code",
   "execution_count": 24,
   "metadata": {},
   "outputs": [],
   "source": [
    "import requests\n",
    "def list2Cid(list):\n",
    "    return list['result']['episodes'][-1]['cid']\n",
    "def seasonId2List(season_id):\n",
    "    url= \"https://bangumi.bilibili.com/view/web_api/season\"\n",
    "    params={'season_id':season_id}\n",
    "    return requests.get(url,params).json()\n",
    "def epId2SeasonId(ep_id):\n",
    "    import re\n",
    "    url= \"https://www.bilibili.com/bangumi/play/ep\" + str(ep_id)\n",
    "    r=requests.get(url)\n",
    "    m = re.search(r'(?<=ss)\\d+', r.text)\n",
    "    return m.group(0)\n",
    "def epId2cid(ep_id):\n",
    "    return list2Cid(seasonId2List(epId2SeasonId(ep_id)))\n",
    "def aid2List(aid,page=1):\n",
    "    url=\"https://api.bilibili.com/view\"\n",
    "    params={'appkey':appKey,'id':aid,'page':page}\n",
    "    return requests.get(url,params).json()\n",
    "def aid2cid(aid,page=1):\n",
    "    return aid2List(aid,page)['cid']\n",
    "def cid2DownUrl(cid,quality=80):\n",
    "    import hashlib\n",
    "    url='https://bangumi.bilibili.com/player/web_api/v2/playurl'\n",
    "    params={}\n",
    "    params.update([['cid',cid],['otype','json'],['type',''],['module','bangumi'],['season_type','1'],['appkey',appKey]])\n",
    "    params['sign']=hashlib.md5(('&'.join([i+'='+str(params[i]) for i in sorted(params.keys())])+appSecret).encode()).hexdigest()\n",
    "    headers={'Referer':'https://www.bilibili.com/video/','User-Agent': 'Mozilla/5.0 (Macintosh; Intel Mac OS X 10.13; rv:56.0) Gecko/20100101 Firefox/56.0'}\n",
    "    headers['Client-IP']='59.152.193.24'\n",
    "    headers['X-Forwarded-For']='59.152.193.24'\n",
    "    headers['X-Requested-With']='XMLHttpRequest'\n",
    "    return requests.get(url,params=params,headers=headers).json()\n",
    "def getSign(params):\n",
    "    import time\n",
    "    params.update([['_appver',3040000],['_tid',0],['_p',1],['_down',0]])\n",
    "    params.update([['platform','android'],['_device','android'],['_hwid','ccbb856c97ccb8d2'],['ts',int(time.time())]])\n",
    "    params.setdefault('appkey',appKey)\n",
    "    sign=hashlib.md5(('&'.join([i+'='+str(params[i]) for i in sorted(params.keys())])+appSecret).encode()).hexdigest()\n",
    "    params['sign']=sign\n",
    "    return params\n",
    "def cid2DownUrl2(cid):\n",
    "    params={'cid':cid,'otype':'json','appkey':appKey,'quality':3,'ts':int(time.time())}\n",
    "    params['sign']=hashlib.md5(('&'.join([i+'='+str(params[i]) for i in sorted(params.keys())])+appSecret).encode()).hexdigest()\n",
    "    url='https://interface.bilibili.com/playurl'\n",
    "    return requests.get(url,params).json()\n"
   ]
  },
  {
   "cell_type": "code",
   "execution_count": 37,
   "metadata": {},
   "outputs": [
    {
     "data": {
      "text/plain": [
       "0.0"
      ]
     },
     "execution_count": 37,
     "metadata": {},
     "output_type": "execute_result"
    }
   ],
   "source": [
    "url=cid2DownUrl(list2Cid(seasonId2List(进击)))['durl'][0]['url']\n",
    "# url='http://upos-hz-mirrorwcsu.acgvideo.com/upgcxcode/43/11/38521143/38521143-1-80.flv?e=ig8euxZM2rNcNbRghwdVhwdlhbKVhwdVhoNvNC8BqJIzNbfqXBvEqxTEto8BTrNvN0GvT90W5JZMkX_YN0MvXg8gNEVEuxTEto8i8o859r1qXg8xNEVE5XREto8GuFGv2U7SuxI72X6fTr859IB_&deadline=1541186141&gen=playurl&nbs=1&oi=2356152436&os=wcsu&platform=pc&trid=2649b8673cd54b5f961bda08de669fd0&uipk=5&upsig=a5627b0bc5a957aef96f026755be0280'\n",
    "headers={'Referer':'https://www.bilibili.com/video/','User-Agent': 'Mozilla/5.0 (Macintosh; Intel Mac OS X 10.13; rv:56.0) Gecko/20100101 Firefox/56.0'}\n",
    "r = requests.get(url, headers=headers,stream=True)\n",
    "int(r.headers['Content-Length'])/1024//1024\n",
    "# with open('a.flv', 'wb') as f:\n",
    "#     for chunk in r.iter_content(chunk_size=1024): \n",
    "#         if chunk: # filter out keep-alive new chunks\n",
    "#             f.write(chunk)\n",
    "#cid2DownUrl(301271)['durl'][0]['url']"
   ]
  },
  {
   "cell_type": "code",
   "execution_count": 59,
   "metadata": {},
   "outputs": [
    {
     "name": "stdout",
     "output_type": "stream",
     "text": [
      "1513s\n"
     ]
    }
   ],
   "source": [
    "headers ={'Host':'tx.acgvideo.com','User-Agent': 'Mozilla/5.0 (Macintosh; Intel Mac OS X 10.13; rv:56.0) Gecko/20100101 Firefox/56.0',\n",
    "          'Accept': '*/*','Accept-Language': 'en-US,en;q=0.5','Accept-Encoding': 'gzip, deflate, br',\n",
    "         'Range': 'bytes=0-','Referer': 'https://www.bilibili.com/video/av14543079/','Origin': 'https://www.bilibili.com','Connection': 'keep-alive'}\n",
    "headers={'Referer':'https://www.bilibili.com/video/','User-Agent': 'Mozilla/5.0 (Macintosh; Intel Mac OS X 10.13; rv:56.0) Gecko/20100101 Firefox/56.0'}\n",
    "headers['Client-IP']='59.125.39.5'\n",
    "print('{:.0f}s'.format(cid2DownUrl(list2Cid(seasonId2List(1071)))['durl'][0]['length']/1000))"
   ]
  },
  {
   "cell_type": "markdown",
   "metadata": {},
   "source": [
    "## 获取Token"
   ]
  },
  {
   "cell_type": "code",
   "execution_count": null,
   "metadata": {},
   "outputs": [],
   "source": [
    "import requests\n",
    "url= \"https://www.biliplus.com/login?act=getpubkey\"\n",
    "r=requests.get(url)\n",
    "r.text"
   ]
  },
  {
   "cell_type": "code",
   "execution_count": 23,
   "metadata": {},
   "outputs": [
    {
     "name": "stdout",
     "output_type": "stream",
     "text": [
      "{'mode': 'video', 'part': 1, 'cid': 62984291, 'length': '023:40', 'data': [{'type': 'split', 'name': 'Standard FLV', 'parts': [{'length': '23:40 186.97MB', 'url': 'http://upos-hz-mirrorwcsu.acgvideo.com/upgcxcode/91/42/62984291/62984291-1-80.flv?e=ig8euxZM2rNcNbRghwdVhwdlhbKVhwdVhoNvNC8BqJIzNbfqXBvEuENvNCImNEVEua6m2jIxux0CkF6s2JZv5x0DQJZY2F8SkXKE9IB5QK==&deadline=1542393867&gen=playurl&nbs=1&oi=2356152436&os=wcsu&platform=flash&trid=c82111bf325648eb961bbaeae71c3b35&uipk=5&upsig=4068ab7b0741ac4cb6413534d5e0032a'}], 'info': '186.97MB<br>1920x1080@23.98 1104.35 kbps<br>882.02 / 188.23 kbps'}, {'type': 'split', 'name': 'Lowered FLV', 'parts': [{'length': '23:40 139.02MB', 'url': 'http://upos-hz-mirrorwcsu.acgvideo.com/upgcxcode/91/42/62984291/62984291-1-64.flv?e=ig8euxZM2rNcNbRghwdVhwdlhbKVhwdVhoNvNC8BqJIzNbfqXBvEuENvNCImNEVEua6m2jIxux0CkF6s2JZv5x0DQJZY2F8SkXKE9IB5QK==&deadline=1542393867&gen=playurl&nbs=1&oi=2356152436&os=wcsu&platform=flash&trid=8aa06628ff3d4075bed47a43c948ff96&uipk=5&upsig=98776481c9df75d968e75cc6700c7e60'}], 'info': '139.02MB<br>1280x720@23.98 821.13 kbps<br>605.40 / 188.23 kbps'}, {'type': 'split', 'name': 'SD FLV', 'parts': [{'length': '23:40 109.53MB', 'url': 'http://upos-hz-mirrorwcsu.acgvideo.com/upgcxcode/91/42/62984291/62984291-1-32.flv?e=ig8euxZM2rNcNbRghwdVhwdlhbKVhwdVhoNvNC8BqJIzNbfqXBvEuENvNCImNEVEua6m2jIxux0CkF6s2JZv5x0DQJZY2F8SkXKE9IB5QK==&deadline=1542393867&gen=playurl&nbs=1&oi=2356152436&os=wcsu&platform=flash&trid=70d00e36477443e980e637229f0b33c0&uipk=5&upsig=4ad328241a9cb2ac7623333d2f54d285'}], 'info': '109.53MB<br>852x480@23.98 646.94 kbps<br>435.28 / 188.23 kbps'}, {'type': 'single', 'name': 'SD MP4', 'url': 'http://upos-hz-mirrorwcsu.acgvideo.com/upgcxcode/91/42/62984291/62984291-1-16.mp4?e=ig8euxZM2rNcNbRghwdVhwdlhbKVhwdVhoNvNC8BqJIzNbfqXBvEuENvNCImNEVEua6m2jIxux0CkF6s2JZv5x0DQJZY2F8SkXKE9IB5QK==&deadline=1542393868&gen=playurl&nbs=1&oi=2356152436&os=wcsu&platform=flash&trid=ed21d19779e442aba6a334eaad7ef935&uipk=5&upsig=10ea50db15dd5f5df932fd2569ffbc40', 'info': '640x360 436.00 kbps<br>364.07 / 65.54 kbps'}], 'notInList': ['hdflv2'], 'expire': 0, 'warn': 'Recommmend using multi-thread downloader to download videos', 'storage': {'access': 2, 'cid': 62984291, 'type': [['mp4', '896.20MB']], 'canReport': 1}}\n"
     ]
    }
   ],
   "source": [
    "url='https://www.biliplus.com/api/geturl?av=5886528&page=1&bangumi=1'\n",
    "import requests\n",
    "def aid2DownUrl(aid,page,bangumi):\n",
    "    url='https://www.biliplus.com/api/geturl'\n",
    "    params={'bangumi':bangumi,'av':aid,'page':page}\n",
    "    headers={}\n",
    "    headers['cookie']='bp_user_id=d-zz-WOAiULcUN99E3tDMw; UsingLang=zh; UM_distinctid=166d59c83a8201-06ac2aa5e25896-4d045769-1fa400-166d59c83a9533; CNZZDATA1256846811=270910691-1541182090-https%253A%252F%252Fwww.biliplus.com%252F%7C1541182090; adfly_video_vaild=1542581413%2Cb4c3b44f; pushed_L2pzL2xhbmcuemguanM=171023013645; pushed_L3N0eWxlL2JpbGlwbHVzLm1pbi5jc3M=180127; pushed_L2pzL3RpbWVyLm1pbi5qcw=161222; pushed_L2pzL3RpbWVhZ28ubWluLmpz=225898f; pushed_L2pzL2JvdHRvbXNjcmlwdC5taW4uanM=180924; vipDueDate=0; pushed_L2pzL3NwLm1pbi5qcw=1710230136; pushed_L2pzL2Zhdi5taW4uanM=181010; freetoview=2; pushed_L2pzL2dldGFpZC5taW4uanM=1811121608; pushed_L2pzL3dpbi1kb3RzLm1pbi5qcw=161229; level=5; login=2; passlogin=1; mid=1381806; uname=Brainor; access_key=b824d04e8483972a35244b81a32d2cd9; face=http%3A%2F%2Fi0.hdslb.com%2Fbfs%2Fface%2F149806452d89f9eec87406c7354d977fac8cd983.jpg; expires=1544971143; secure_header=access_key%2Cmid%2Clevel%2Csecurev2_time; securev2_time=1542379148; securev2=40b567b5; visiturl=%2Fapi%2Fdo.php%3Fsource%3Dbilibili%26act%3Dsearch%26o%3Ddefault%26n%3D20%26p%3D1%26word%3D%25E4%25BA%25A7%25E5%25AD%2590%25E6%2595%2591%25E4%25B8%2596%25E5%25BD%2595; _ga=GA1.2.1111774395.1539370612; _gid=GA1.2.666122244.1542379065'\n",
    "    headers['cookie']='bp_user_id=d-zz-WOAiULcUN99E3tDMw; UM_distinctid=166d59c83a8201-06ac2aa5e25896-4d045769-1fa400-166d59c83a9533; CNZZDATA1256846811=270910691-1541182090-https%253A%252F%252Fwww.biliplus.com%252F%7C1541182090; adfly_video_vaild=1542581413%2Cb4c3b44f; pushed_L2pzL2xhbmcuemguanM=171023013645; pushed_L3N0eWxlL2JpbGlwbHVzLm1pbi5jc3M=180127; pushed_L2pzL3RpbWVyLm1pbi5qcw=161222; pushed_L2pzL3RpbWVhZ28ubWluLmpz=225898f; pushed_L2pzL2JvdHRvbXNjcmlwdC5taW4uanM=180924; vipDueDate=0; pushed_L2pzL3NwLm1pbi5qcw=1710230136; pushed_L2pzL2Zhdi5taW4uanM=181010; freetoview=2; pushed_L2pzL2dldGFpZC5taW4uanM=1811121608; pushed_L2pzL3dpbi1kb3RzLm1pbi5qcw=161229; level=5; login=2; passlogin=1; mid=1381806; uname=Brainor; access_key=b824d04e8483972a35244b81a32d2cd9; face=http%3A%2F%2Fi0.hdslb.com%2Fbfs%2Fface%2F149806452d89f9eec87406c7354d977fac8cd983.jpg; expires=1544971143; secure_header=access_key%2Cmid%2Clevel%2Csecurev2_time; securev2_time=1542379148; securev2=40b567b5; visiturl=%2Fapi%2Fdo.php%3Fsource%3Dbilibili%26act%3Dsearch%26o%3Ddefault%26n%3D20%26p%3D1%26word%3D%25E4%25BA%25A7%25E5%25AD%2590%25E6%2595%2591%25E4%25B8%2596%25E5%25BD%2595; _ga=GA1.2.1111774395.1539370612; _gid=GA1.2.666122244.1542379065'\n",
    "    print(requests.get(url,params=params,headers=headers).json())\n",
    "aid2DownUrl(35886528,1,1)"
   ]
  },
  {
   "cell_type": "markdown",
   "metadata": {},
   "source": [
    "# BiliPlus"
   ]
  },
  {
   "cell_type": "code",
   "execution_count": 7,
   "metadata": {},
   "outputs": [],
   "source": [
    "import requests\n",
    "url='https://www.biliplus.com/BPplayurl.php?cid=63355113&type=mp4&otype=json'\n",
    "# url2=requests.get(url).json()['durl'][0]['url'].replace('us.biliplus-vid.top','sg.biliplus-vid.top')\n",
    "url2='https://us.biliplus-vid.top/file/16190fd10ddd29fa321a04e8d34f9dc0/1542984989/2093829167/1K4loQ4lHTyS1vCns7mvGXIy8Ols1Dm1K/videoplayback.mp4'.replace('us.biliplus-vid.top','sg.biliplus-vid.top')\n",
    "headers={}\n",
    "# headers['referer']='https://www.biliplus.com/api/video_playurl?cid=63355113&type=mp4'\n",
    "# headers['user-agent']='Mozilla/5.0 (Windows NT 10.0; WOW64) AppleWebKit/537.36 (KHTML, like Gecko) Chrome/58.0.3029.110 Safari/537.36 SE 2.X MetaSr 1.0'\n",
    "r=requests.get(url2,headers=headers)\n",
    "with open('a.flv', 'wb') as f:\n",
    "    for chunk in r.iter_content(chunk_size=1024): \n",
    "        if chunk: # filter out keep-alive new chunks\n",
    "            f.write(chunk)"
   ]
  },
  {
   "cell_type": "code",
   "execution_count": 13,
   "metadata": {},
   "outputs": [
    {
     "name": "stdout",
     "output_type": "stream",
     "text": [
      "<RequestsCookieJar[<Cookie bp_user_id=v2A0gjSZ1bytJJ1Z2ynUoQ for .biliplus.com/>, <Cookie freetoview=3 for .biliplus.com/>, <Cookie login=1 for .biliplus.com/>, <Cookie mid=visitor_7ccd4c2f for .biliplus.com/>, <Cookie passlogin=0 for .biliplus.com/>, <Cookie uname=%E6%B8%B8%E5%AE%A27ccd4c2f for .biliplus.com/>]>\n",
      "<RequestsCookieJar[<Cookie access_key=65ee1460b8adaa7b149033e614fe70c1 for .biliplus.com/>, <Cookie bp_user_id=v2A0gjSZ1bytJJ1Z2ynUoQ for .biliplus.com/>, <Cookie face=http%3A%2F%2Fi0.hdslb.com%2Fbfs%2Fface%2F149806452d89f9eec87406c7354d977fac8cd983.jpg for .biliplus.com/>, <Cookie level=5 for .biliplus.com/>, <Cookie login=2 for .biliplus.com/>, <Cookie mid=1381806 for .biliplus.com/>, <Cookie passlogin=1 for .biliplus.com/>, <Cookie secure_header=access_key%2Cmid%2Clevel%2Csecurev2_time for .biliplus.com/>, <Cookie securev2=dd7852da for .biliplus.com/>, <Cookie securev2_time=1544620018 for .biliplus.com/>, <Cookie uname=Brainor for .biliplus.com/>]>\n",
      "login_success({\"code\":0,\"visiturl\":\"\"});\n"
     ]
    }
   ],
   "source": [
    "#这部分是获得BiliPlus授权\n",
    "import requests\n",
    "def to_para(plain):\n",
    "    from Crypto.Cipher import PKCS1_v1_5 as Cipher_pkcs1_v1_5\n",
    "    import base64\n",
    "    from Crypto.PublicKey import RSA\n",
    "    url='https://www.biliplus.com/login'\n",
    "    pub_key=requests.get(url,params={'act':'getpubkey'}).json()\n",
    "    rsa_key = RSA.importKey(pub_key['key'])\n",
    "    cipher = Cipher_pkcs1_v1_5.new(rsa_key)\n",
    "    cipher_text = base64.b64encode(cipher.encrypt((pub_key['hash']+plain).encode()))  # 通过生成的对象加密message明文，注意，在python3中加密的数据必须是bytes类型的数据，不能是str类型的数据\n",
    "    return(cipher_text.decode())\n",
    "url='https://www.biliplus.com/login'\n",
    "res=requests.post(url,params={'act':'login'},data={'uid':'18910958663','pwd':to_para('oudanyi6456')})\n",
    "print(res.cookies)\n",
    "res=requests.get(url,params={'act':'savekey',**res.json()})\n",
    "print(res.cookies)\n",
    "print(res.text)\n",
    "# to_para('ca775807bff9cf1eoudanyi6456')"
   ]
  },
  {
   "cell_type": "markdown",
   "metadata": {},
   "source": [
    "# B站登陆API"
   ]
  },
  {
   "cell_type": "code",
   "execution_count": 9,
   "metadata": {},
   "outputs": [],
   "source": [
    "import requests\n",
    "url='https://passport.bilibili.com/login'\n",
    "def encryptPassword(password):\n",
    "    from Crypto.Cipher import PKCS1_v1_5 as Cipher_pkcs1_v1_5\n",
    "    import base64\n",
    "    from Crypto.PublicKey import RSA\n",
    "    pub_key=requests.get(url,params={'act':'getkey'}).json()\n",
    "    rsa_key = RSA.importKey(pub_key['key'])\n",
    "    cipher = Cipher_pkcs1_v1_5.new(rsa_key)\n",
    "    cipher_text = base64.b64encode(cipher.encrypt((pub_key['hash']+password).encode()))  # 通过生成的对象加密message明文，注意，在python3中加密的数据必须是bytes类型的数据，不能是str类型的数据\n",
    "    return(cipher_text.decode())\n",
    "def capcha():\n",
    "    data=requests.get(url[:-5]+'qrcode/getLoginUrl').json()['data']\n",
    "    data2=requests.post(url[:-5]+'qrcode/getLoginInfo',data={'oauthKey':data['oauthKey'],'gourl':url[:-5]+'account/security#/home'})\n",
    "    print(data2)\n",
    "res=requests.post(url+'/web/login/v2',data={'username':'brainor','password':encryptPassword('oudanyi6456'),'keep':True,'key':'','goUrl':url[:-5]+'account/security#/home','challenge':'','validate':'','seccode':''})"
   ]
  },
  {
   "cell_type": "code",
   "execution_count": 17,
   "metadata": {},
   "outputs": [],
   "source": [
    "data=requests.get(url[:-5]+'qrcode/getLoginUrl')\n",
    "data2=requests.post(url[:-5]+'qrcode/getLoginInfo',data={'oauthKey':data.json()['data']['oauthKey'],'gourl':url[:-5]+'account/security#/home'})\n",
    "requests.get(url[:-5]+'web/captcha/combine?plat=2').text"
   ]
  },
  {
   "cell_type": "markdown",
   "metadata": {},
   "source": [
    "B站Android API"
   ]
  },
  {
   "cell_type": "raw",
   "metadata": {},
   "source": [
    "Device: android\n",
    "Description: 普通版\n",
    "AppKey: 1d8b6e7d45233436\n",
    "SecretKey: 560c52ccd288fed045859ed18bffd973\n",
    "\n",
    "Device: android_i\n",
    "Description: 国际版\n",
    "AppKey: bb3101000e232e27\n",
    "SecretKey: 36efcfed79309338ced0380abd824ac1\n",
    "\n",
    "Device: android_b\n",
    "Description: 概念版\n",
    "AppKey: 07da50c9a0bf829f\n",
    "SecretKey: 25bdede4e1581c836cab73a48790ca6e\n",
    "\n",
    "Device: android_tv\n",
    "Description: 电视版\n",
    "AppKey: 4409e2ce8ffd12b8\n",
    "SecretKey: 59b43e04ad6965f34319062b478f83dd\n",
    "\n",
    "Device: biliLink\n",
    "Description: 直播\n",
    "AppKey: 37207f2beaebf8d7\n",
    "SecretKey: e988e794d4d4b6dd43bc0e89d6e90c43\n",
    "\n",
    "视频\n",
    "AppKey: iVGUTjsxvpLeuDCf\n",
    "SecretKey: aHRmhWMLkdeMuILqORnYZocwMBpMEOdt\n"
   ]
  },
  {
   "cell_type": "code",
   "execution_count": 2,
   "metadata": {},
   "outputs": [],
   "source": [
    "import requests\n",
    "import hashlib\n",
    "import time\n",
    "from urllib import parse\n",
    "#登陆API\n",
    "url_login='https://passport.bilibili.com/api/'\n",
    "AppKey='1d8b6e7d45233436'\n",
    "SecretKey='560c52ccd288fed045859ed18bffd973'\n",
    "defaultParam={'build':5350000,'mobi_app':'android','platform':'android'}\n",
    "cookies={}\n",
    "def getSign(params):\n",
    "    params.update(appkey=AppKey)\n",
    "#     params={k: params[k] for k in sorted(params)}\n",
    "    sign=hashlib.md5((parse.urlencode(sorted(params.items()))+SecretKey).encode()).hexdigest()\n",
    "    return {**params,'sign':sign}\n",
    "def encrypt_pw(pw,headers):\n",
    "    from Crypto.Cipher import PKCS1_v1_5 as Cipher_pkcs1_v1_5\n",
    "    import base64\n",
    "    from Crypto.PublicKey import RSA\n",
    "    req_getKey=requests.post(url_login+'oauth2/getKey',data=getSign(defaultParam))\n",
    "    cookies['sid']=req_getKey.cookies['sid']\n",
    "    rsa_key = RSA.importKey(req_getKey.json()['data']['key'])\n",
    "    cipher = Cipher_pkcs1_v1_5.new(rsa_key)\n",
    "    cipher_text = base64.b64encode(cipher.encrypt((req_getKey.json()['data']['hash']+pw).encode()))  # 通过生成的对象加密message明文，注意，在python3中加密的数据必须是bytes类型的数据，不能是str类型的数据\n",
    "    return(cipher_text.decode())\n",
    "\n",
    "# res=requests.post(url_login+'v3/oauth2/login',\n",
    "#                   data=getSign({'appkey':AppKey,'username':'18910958663',**defaultParam,'password':encrypt_pw('oudanyi6456',cookies),'ts':int(time.time())}),\n",
    "#                   headers={'Display-ID': 'FB3E62A0-4621-440A-B1A5-E6EE67E74AD427879infoc-1545829757','Buvid': 'FB3E62A0-4621-440A-B1A5-E6EE67E74AD427879infoc','User-Agent': 'Mozilla/5.0 BiliDroid/5.35.0 (bbcallen@gmail.com)','Device-ID': 'RSYQJEYnEiBDekh6BjQGNAZkVDUGYwBlUS1RZ1FpC2oMPAk'},\n",
    "#                   cookies=cookies)\n",
    "# print(res.text)"
   ]
  },
  {
   "cell_type": "code",
   "execution_count": 5,
   "metadata": {},
   "outputs": [
    {
     "data": {
      "text/plain": [
       "{'accept_format': 'flv720,flv480,mp4',\n",
       " 'code': 0,\n",
       " 'durl': [{'size': 697691075,\n",
       "   'ahead': 'EZA=',\n",
       "   'length': 5406672,\n",
       "   'vhead': 'AWQAHv/hABhnZAAerNlAoD2hAAADAAEAAAMAMg8WLZYBAAVo6+zyPA==',\n",
       "   'backup_url': ['http://upos-hz-mirrorwcsu.acgvideo.com/upgcxcode/59/59/68495959/68495959-1-32.flv?e=ig8euxZM2rNcNbRghwdVhwdlhWNVhwdVhoNvNC8BqJIzNbfqXBvEuENvNC8aNEVEtEvE9IMvXBvE2ENvNCImNEVEIj0Y2J_aug859r1qXg8xNEVE5XREto8GuFGv2U7SuxI72X6fTr859IB_&deadline=1546421183&gen=playurl&nbs=1&oi=2093829167&os=wcsu&platform=android&trid=8eadcc4646d04901b059d78bd0b16c83&uipk=5&upsig=08a24ba82b02da83e9d2184ee4a41d0f',\n",
       "    'http://upos-hz-mirrorcos.acgvideo.com/upgcxcode/59/59/68495959/68495959-1-32.flv?um_deadline=1546421183&platform=android&rate=1200000&oi=2093829167&um_sign=df08f19308d9f6abd6bb1e7be2153361&gen=playurl&os=cos&trid=8eadcc4646d04901b059d78bd0b16c83'],\n",
       "   'url': 'http://124.202.167.11/upgcxcode/59/59/68495959/68495959-1-32.flv?e=ig8euxZM2rNcNbRghwdVhwdlhWNVhwdVhoNvNC8BqJIzNbfqXBvEuENvNC8aNEVEtEvE9IMvXBvE2ENvNCImNEVEIj0Y2J_aug859r1qXg8xNEVE5XREto8GuFGv2U7SuxI72X6fTr859IB_&deadline=1546421183&gen=playurl&nbs=1&oi=2093829167&os=acache&platform=android&trid=8eadcc4646d04901b059d78bd0b16c83&uipk=5&upsig=06f9e7d7d33687201aa4482aa43244b8',\n",
       "   'order': 1}],\n",
       " 'seek_param': 'start',\n",
       " 'format': 'flv480',\n",
       " 'fnval': 0,\n",
       " 'video_project': True,\n",
       " 'fnver': 0,\n",
       " 'accept_quality': [64, 32, 16],\n",
       " 'bp': 0,\n",
       " 'quality': 32,\n",
       " 'timelength': 5406672,\n",
       " 'result': 'suee',\n",
       " 'seek_type': 'offset',\n",
       " 'has_paid': False,\n",
       " 'vip_type': 0,\n",
       " 'vip_status': 0,\n",
       " 'from': 'local',\n",
       " 'video_codecid': 7,\n",
       " 'accept_description': ['高清 720P', '清晰 480P', '流畅 360P'],\n",
       " 'status': 2}"
      ]
     },
     "execution_count": 5,
     "metadata": {},
     "output_type": "execute_result"
    }
   ],
   "source": [
    "url_down='https://api.bilibili.com/pgc/player/api/playurl'\n",
    "params={'access_key':'565517dc877bcceae69718005cdebec1','aid':35822946,'appKey':AppKey,**defaultParam,'buvid':'FB3E62A0-4621-440A-B1A5-E6EE67E74AD427879infoc',\n",
    "       'cid':68495959,'expire':1548421792,'fnval':0,'fnver':0,'mid':1381806,'module':'bangumi','npcybs':1,'otype':'json','qn':32,'ts':1546410215}\n",
    "requests.get(url_down,params=getSign(params)).json()"
   ]
  },
  {
   "cell_type": "code",
   "execution_count": null,
   "metadata": {},
   "outputs": [],
   "source": []
  }
 ],
 "metadata": {
  "kernelspec": {
   "display_name": "Python 3",
   "language": "python",
   "name": "python3"
  },
  "language_info": {
   "codemirror_mode": {
    "name": "ipython",
    "version": 3
   },
   "file_extension": ".py",
   "mimetype": "text/x-python",
   "name": "python",
   "nbconvert_exporter": "python",
   "pygments_lexer": "ipython3",
   "version": "3.7.1"
  }
 },
 "nbformat": 4,
 "nbformat_minor": 2
}
